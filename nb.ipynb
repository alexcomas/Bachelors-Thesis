{
 "cells": [
  {
   "cell_type": "code",
   "execution_count": 1,
   "metadata": {},
   "outputs": [
    {
     "data": {
      "text/plain": [
       "<module 'Library.comaslib' from 'e:\\\\Bachelors-Thesis\\\\Library\\\\comaslib\\\\__init__.py'>"
      ]
     },
     "execution_count": 1,
     "metadata": {},
     "output_type": "execute_result"
    }
   ],
   "source": [
    "import configparser\n",
    "import time\n",
    "import numpy as np\n",
    "import os\n",
    "import tensorflow as tf\n",
    "import importlib\n",
    "import configparser\n",
    "import warnings\n",
    "warnings.filterwarnings('ignore')\n",
    "\n",
    "import Library.comaslib as comaslib"
   ]
  },
  {
   "cell_type": "code",
   "execution_count": 3,
   "metadata": {},
   "outputs": [
    {
     "name": "stdout",
     "output_type": "stream",
     "text": [
      "Creating a new model\n"
     ]
    }
   ],
   "source": [
    "os.environ['CUDA_VISIBLE_DEVICES'] = '-1'\n",
    "\n",
    "params = configparser.ConfigParser()\n",
    "params._interpolation = configparser.ExtendedInterpolation()\n",
    "params.read('./config.ini')\n",
    "\n",
    "directory = 'DIRECTORIES_' + params['RUN_CONFIG']['dataset_data'] + '_LABELS_' + params['RUN_CONFIG']['dataset_labels']\n",
    "\n",
    "generator = comaslib.data.generator.Generator(dataset='IDS2017')\n",
    "path_logs = os.path.abspath(params[directory]['logs'])\n",
    "(model, startingEpoch) = comaslib.model.tf.GNN.make_or_restore_model(hyperparameters=params['HYPERPARAMETERS'], logs_dir=params[directory]['logs'])\n",
    "\n",
    "# callbacks to save the model\n",
    "callbacks = [tf.keras.callbacks.ModelCheckpoint(filepath=  path_logs + \"/ckpt/weights.{epoch:02d}-{loss:.3f}.tf\", save_freq='epoch', \n",
    "                    monitor='val_loss', save_best_only=False, save_format=\"tf\"), \n",
    "              tf.keras.callbacks.TensorBoard(log_dir=path_logs + \"/logs\", update_freq=1000, profile_batch = '100,120')]\n",
    "\n",
    "train_dataset = comaslib.data.tf.IDS_Dataset.IDS_Dataset(\n",
    "    dataset_path=os.path.abspath(params[directory][\"train\"]),\n",
    "    dataset=params['RUN_CONFIG']['dataset_data'],\n",
    "    dataset_labels=params['RUN_CONFIG']['dataset_labels'],\n",
    "    for_framework='tensorflow',\n",
    "    data_treatment='none',\n",
    "    data_treatment_params_path=os.path.abspath(params[directory][\"data_treatment\"])\n",
    "    )\n",
    "val_dataset = comaslib.data.tf.IDS_Dataset.IDS_Dataset(\n",
    "    dataset_path=os.path.abspath(params[directory][\"validation\"]),\n",
    "    dataset=params['RUN_CONFIG']['dataset_data'],\n",
    "    dataset_labels=params['RUN_CONFIG']['dataset_labels'],\n",
    "    for_framework='tensorflow',\n",
    "    data_treatment='none',\n",
    "    data_treatment_params_path=os.path.abspath(params[directory][\"data_treatment\"])\n",
    "    )"
   ]
  },
  {
   "cell_type": "code",
   "execution_count": 4,
   "metadata": {},
   "outputs": [
    {
     "name": "stdout",
     "output_type": "stream",
     "text": [
      "Epoch 1/2000\n",
      "\n",
      "Opening file in generator: E:\\Bachelors-Thesis\\Thesis Code\\preprocess_dataset\\preprocessed_IDS2017\\TRAIN\\train_dataset.csv\n",
      "Chosen features:  Source Port, Destination Port, Bwd Packet Length Min, Subflow Fwd Packets, Total Length of Fwd Packets, Fwd Packet Length Mean, Total Length of Bwd Packets, Fwd Packet Length Std, Fwd IAT Min, Flow IAT Min, Flow IAT Mean, Bwd Packet Length Std, Subflow Fwd Bytes, Flow Duration, Flow IAT Std, Active Min, Active Mean, Bwd IAT Mean, Subflow Bwd Bytes, Init_Win_bytes_forward, ACK Flag Count, Fwd PSH Flags, SYN Flag Count, Flow Packets/s, PSH Flag Count, Average Packet Size\n",
      "Data treatment:  none\n",
      "1600/1600 [==============================] - ETA: 0s - loss: 5.4955 - categorical_accuracy: 0.5389 - specificity_at_sensitivity: 0.9775 - rec_0: 0.0000e+00 - pre_0: 0.0000e+00 - rec_1: 0.0034 - pre_1: 0.0225 - rec_2: 0.6926 - pre_2: 0.7518 - rec_3: 0.0000e+00 - pre_3: 0.0000e+00 - rec_4: 0.0017 - pre_4: 0.0050 - rec_5: 0.0000e+00 - pre_5: 0.0000e+00 - rec_6: 0.0000e+00 - pre_6: 0.0000e+00 - rec_7: 0.0000e+00 - pre_7: 0.0000e+00 - rec_8: 0.0000e+00 - pre_8: 0.0000e+00 - rec_9: 0.0496 - pre_9: 0.2485 - rec_10: 9.0539e-04 - pre_10: 0.0078 - rec_11: 0.0000e+00 - pre_11: 0.0000e+00 - rec_12: 0.0068 - pre_12: 0.1364 - rec_13: 0.2313 - pre_13: 0.5819 - rec_14: 0.8774 - pre_14: 0.5008 - macro_F1: 0.1197 - weighted_F1: 0.4757\n",
      "Opening file in generator: E:\\Bachelors-Thesis\\Thesis Code\\preprocess_dataset\\preprocessed_IDS2017\\EVAL\\eval_dataset.csv\n",
      "Chosen features:  Source Port, Destination Port, Bwd Packet Length Min, Subflow Fwd Packets, Total Length of Fwd Packets, Fwd Packet Length Mean, Total Length of Bwd Packets, Fwd Packet Length Std, Fwd IAT Min, Flow IAT Min, Flow IAT Mean, Bwd Packet Length Std, Subflow Fwd Bytes, Flow Duration, Flow IAT Std, Active Min, Active Mean, Bwd IAT Mean, Subflow Bwd Bytes, Init_Win_bytes_forward, ACK Flag Count, Fwd PSH Flags, SYN Flag Count, Flow Packets/s, PSH Flag Count, Average Packet Size\n",
      "Data treatment:  none\n",
      "INFO:tensorflow:Assets written to: E:\\Bachelors-Thesis\\Thesis Code\\preprocess_dataset\\preprocessed_IDS2017/ckpt\\weights.01-5.496.tf\\assets\n"
     ]
    },
    {
     "name": "stderr",
     "output_type": "stream",
     "text": [
      "INFO:tensorflow:Assets written to: E:\\Bachelors-Thesis\\Thesis Code\\preprocess_dataset\\preprocessed_IDS2017/ckpt\\weights.01-5.496.tf\\assets\n"
     ]
    },
    {
     "name": "stdout",
     "output_type": "stream",
     "text": [
      "1600/1600 [==============================] - 220s 126ms/step - loss: 5.4955 - categorical_accuracy: 0.5389 - specificity_at_sensitivity: 0.9775 - rec_0: 0.0000e+00 - pre_0: 0.0000e+00 - rec_1: 0.0034 - pre_1: 0.0225 - rec_2: 0.6926 - pre_2: 0.7518 - rec_3: 0.0000e+00 - pre_3: 0.0000e+00 - rec_4: 0.0017 - pre_4: 0.0050 - rec_5: 0.0000e+00 - pre_5: 0.0000e+00 - rec_6: 0.0000e+00 - pre_6: 0.0000e+00 - rec_7: 0.0000e+00 - pre_7: 0.0000e+00 - rec_8: 0.0000e+00 - pre_8: 0.0000e+00 - rec_9: 0.0496 - pre_9: 0.2485 - rec_10: 9.0539e-04 - pre_10: 0.0078 - rec_11: 0.0000e+00 - pre_11: 0.0000e+00 - rec_12: 0.0068 - pre_12: 0.1364 - rec_13: 0.2313 - pre_13: 0.5819 - rec_14: 0.8774 - pre_14: 0.5008 - macro_F1: 0.1197 - weighted_F1: 0.4757 - val_loss: 6.0233 - val_categorical_accuracy: 0.6041 - val_specificity_at_sensitivity: 0.9737 - val_rec_0: 0.0000e+00 - val_pre_0: 0.0000e+00 - val_rec_1: 9.5877e-04 - val_pre_1: 0.0385 - val_rec_2: 0.8523 - val_pre_2: 0.9506 - val_rec_3: 0.0000e+00 - val_pre_3: 0.0000e+00 - val_rec_4: 0.0000e+00 - val_pre_4: 0.0000e+00 - val_rec_5: 0.0000e+00 - val_pre_5: 0.0000e+00 - val_rec_6: 0.0000e+00 - val_pre_6: 0.0000e+00 - val_rec_7: 0.0000e+00 - val_pre_7: 0.0000e+00 - val_rec_8: 0.0000e+00 - val_pre_8: 0.0000e+00 - val_rec_9: 4.8360e-04 - val_pre_9: 0.3243 - val_rec_10: 0.0000e+00 - val_pre_10: 0.0000e+00 - val_rec_11: 0.0000e+00 - val_pre_11: 0.0000e+00 - val_rec_12: 0.0423 - val_pre_12: 0.1660 - val_rec_13: 0.2461 - val_pre_13: 0.7975 - val_rec_14: 0.9648 - val_pre_14: 0.5220 - val_macro_F1: 0.1348 - val_weighted_F1: 0.5227\n",
      "Epoch 2/2000\n",
      "1600/1600 [==============================] - ETA: 0s - loss: 5.9093 - categorical_accuracy: 0.6040 - specificity_at_sensitivity: 0.9744 - rec_0: 0.0108 - pre_0: 0.5102 - rec_1: 0.0000e+00 - pre_1: 0.0000e+00 - rec_2: 0.8388 - pre_2: 0.9488 - rec_3: 0.0000e+00 - pre_3: 0.0000e+00 - rec_4: 0.0000e+00 - pre_4: 0.0000e+00 - rec_5: 0.0000e+00 - pre_5: 0.0000e+00 - rec_6: 0.0000e+00 - pre_6: 0.0000e+00 - rec_7: 0.0000e+00 - pre_7: 0.0000e+00 - rec_8: 0.0000e+00 - pre_8: 0.0000e+00 - rec_9: 8.0227e-04 - pre_9: 0.2662 - rec_10: 0.0000e+00 - pre_10: 0.0000e+00 - rec_11: 0.0000e+00 - pre_11: 0.0000e+00 - rec_12: 0.0072 - pre_12: 0.2344 - rec_13: 0.2406 - pre_13: 0.7876 - rec_14: 0.9677 - pre_14: 0.5235 - macro_F1: 0.1317 - weighted_F1: 0.5198\n",
      "Opening file in generator: E:\\Bachelors-Thesis\\Thesis Code\\preprocess_dataset\\preprocessed_IDS2017\\EVAL\\eval_dataset.csv\n",
      "Chosen features:  Source Port, Destination Port, Bwd Packet Length Min, Subflow Fwd Packets, Total Length of Fwd Packets, Fwd Packet Length Mean, Total Length of Bwd Packets, Fwd Packet Length Std, Fwd IAT Min, Flow IAT Min, Flow IAT Mean, Bwd Packet Length Std, Subflow Fwd Bytes, Flow Duration, Flow IAT Std, Active Min, Active Mean, Bwd IAT Mean, Subflow Bwd Bytes, Init_Win_bytes_forward, ACK Flag Count, Fwd PSH Flags, SYN Flag Count, Flow Packets/s, PSH Flag Count, Average Packet Size\n",
      "Data treatment:  none\n",
      "INFO:tensorflow:Assets written to: E:\\Bachelors-Thesis\\Thesis Code\\preprocess_dataset\\preprocessed_IDS2017/ckpt\\weights.02-5.909.tf\\assets\n"
     ]
    },
    {
     "name": "stderr",
     "output_type": "stream",
     "text": [
      "INFO:tensorflow:Assets written to: E:\\Bachelors-Thesis\\Thesis Code\\preprocess_dataset\\preprocessed_IDS2017/ckpt\\weights.02-5.909.tf\\assets\n"
     ]
    },
    {
     "name": "stdout",
     "output_type": "stream",
     "text": [
      "1600/1600 [==============================] - 254s 159ms/step - loss: 5.9093 - categorical_accuracy: 0.6040 - specificity_at_sensitivity: 0.9744 - rec_0: 0.0108 - pre_0: 0.5102 - rec_1: 0.0000e+00 - pre_1: 0.0000e+00 - rec_2: 0.8388 - pre_2: 0.9488 - rec_3: 0.0000e+00 - pre_3: 0.0000e+00 - rec_4: 0.0000e+00 - pre_4: 0.0000e+00 - rec_5: 0.0000e+00 - pre_5: 0.0000e+00 - rec_6: 0.0000e+00 - pre_6: 0.0000e+00 - rec_7: 0.0000e+00 - pre_7: 0.0000e+00 - rec_8: 0.0000e+00 - pre_8: 0.0000e+00 - rec_9: 8.0227e-04 - pre_9: 0.2662 - rec_10: 0.0000e+00 - pre_10: 0.0000e+00 - rec_11: 0.0000e+00 - pre_11: 0.0000e+00 - rec_12: 0.0072 - pre_12: 0.2344 - rec_13: 0.2406 - pre_13: 0.7876 - rec_14: 0.9677 - pre_14: 0.5235 - macro_F1: 0.1317 - weighted_F1: 0.5198 - val_loss: 5.8596 - val_categorical_accuracy: 0.6112 - val_specificity_at_sensitivity: 0.9745 - val_rec_0: 0.0403 - val_pre_0: 0.7368 - val_rec_1: 0.0000e+00 - val_pre_1: 0.0000e+00 - val_rec_2: 0.8555 - val_pre_2: 0.9590 - val_rec_3: 0.0000e+00 - val_pre_3: 0.0000e+00 - val_rec_4: 0.0000e+00 - val_pre_4: 0.0000e+00 - val_rec_5: 0.0000e+00 - val_pre_5: 0.0000e+00 - val_rec_6: 0.0000e+00 - val_pre_6: 0.0000e+00 - val_rec_7: 0.0000e+00 - val_pre_7: 0.0000e+00 - val_rec_8: 0.0000e+00 - val_pre_8: 0.0000e+00 - val_rec_9: 0.0031 - val_pre_9: 0.5099 - val_rec_10: 0.0000e+00 - val_pre_10: 0.0000e+00 - val_rec_11: 0.0000e+00 - val_pre_11: 0.0000e+00 - val_rec_12: 0.0031 - val_pre_12: 0.2308 - val_rec_13: 0.2580 - val_pre_13: 0.8344 - val_rec_14: 0.9725 - val_pre_14: 0.5255 - val_macro_F1: 0.1380 - val_weighted_F1: 0.5310\n",
      "Epoch 3/2000\n",
      " 599/1600 [==========>...................] - ETA: 2:00 - loss: 5.8453 - categorical_accuracy: 0.6102 - specificity_at_sensitivity: 0.9745 - rec_0: 0.0265 - pre_0: 0.4444 - rec_1: 0.0000e+00 - pre_1: 0.0000e+00 - rec_2: 0.8511 - pre_2: 0.9671 - rec_3: 0.0000e+00 - pre_3: 0.0000e+00 - rec_4: 0.0000e+00 - pre_4: 0.0000e+00 - rec_5: 0.0026 - pre_5: 0.0455 - rec_6: 0.0000e+00 - pre_6: 0.0000e+00 - rec_7: 0.0000e+00 - pre_7: 0.0000e+00 - rec_8: 0.0000e+00 - pre_8: 0.0000e+00 - rec_9: 0.0085 - pre_9: 0.4828 - rec_10: 0.0000e+00 - pre_10: 0.0000e+00 - rec_11: 0.0000e+00 - pre_11: 0.0000e+00 - rec_12: 0.0592 - pre_12: 0.5634 - rec_13: 0.2495 - pre_13: 0.8433 - rec_14: 0.9712 - pre_14: 0.5203 - macro_F1: 0.1431 - weighted_F1: 0.5324\n",
      "Opening file in generator: E:\\Bachelors-Thesis\\Thesis Code\\preprocess_dataset\\preprocessed_IDS2017\\TRAIN\\train_dataset.csv\n",
      "Chosen features:  Source Port, Destination Port, Bwd Packet Length Min, Subflow Fwd Packets, Total Length of Fwd Packets, Fwd Packet Length Mean, Total Length of Bwd Packets, Fwd Packet Length Std, Fwd IAT Min, Flow IAT Min, Flow IAT Mean, Bwd Packet Length Std, Subflow Fwd Bytes, Flow Duration, Flow IAT Std, Active Min, Active Mean, Bwd IAT Mean, Subflow Bwd Bytes, Init_Win_bytes_forward, ACK Flag Count, Fwd PSH Flags, SYN Flag Count, Flow Packets/s, PSH Flag Count, Average Packet Size\n",
      "Data treatment:  none\n",
      "1600/1600 [==============================] - ETA: 0s - loss: 5.5594 - categorical_accuracy: 0.6197 - specificity_at_sensitivity: 0.9760 - rec_0: 0.0122 - pre_0: 0.3621 - rec_1: 0.0000e+00 - pre_1: 0.0000e+00 - rec_2: 0.8459 - pre_2: 0.9627 - rec_3: 0.0000e+00 - pre_3: 0.0000e+00 - rec_4: 0.0000e+00 - pre_4: 0.0000e+00 - rec_5: 0.0014 - pre_5: 0.0312 - rec_6: 0.0000e+00 - pre_6: 0.0000e+00 - rec_7: 0.0000e+00 - pre_7: 0.0000e+00 - rec_8: 0.0000e+00 - pre_8: 0.0000e+00 - rec_9: 0.0783 - pre_9: 0.7420 - rec_10: 0.0000e+00 - pre_10: 0.0000e+00 - rec_11: 0.0000e+00 - pre_11: 0.0000e+00 - rec_12: 0.0709 - pre_12: 0.4667 - rec_13: 0.2785 - pre_13: 0.8006 - rec_14: 0.9635 - pre_14: 0.5276 - macro_F1: 0.1524 - weighted_F1: 0.5562\n",
      "Opening file in generator: E:\\Bachelors-Thesis\\Thesis Code\\preprocess_dataset\\preprocessed_IDS2017\\EVAL\\eval_dataset.csv\n",
      "Chosen features:  Source Port, Destination Port, Bwd Packet Length Min, Subflow Fwd Packets, Total Length of Fwd Packets, Fwd Packet Length Mean, Total Length of Bwd Packets, Fwd Packet Length Std, Fwd IAT Min, Flow IAT Min, Flow IAT Mean, Bwd Packet Length Std, Subflow Fwd Bytes, Flow Duration, Flow IAT Std, Active Min, Active Mean, Bwd IAT Mean, Subflow Bwd Bytes, Init_Win_bytes_forward, ACK Flag Count, Fwd PSH Flags, SYN Flag Count, Flow Packets/s, PSH Flag Count, Average Packet Size\n",
      "Data treatment:  none\n"
     ]
    },
    {
     "ename": "KeyboardInterrupt",
     "evalue": "",
     "output_type": "error",
     "traceback": [
      "\u001b[1;31m---------------------------------------------------------------------------\u001b[0m",
      "\u001b[1;31mKeyboardInterrupt\u001b[0m                         Traceback (most recent call last)",
      "Cell \u001b[1;32mIn[4], line 2\u001b[0m\n\u001b[0;32m      1\u001b[0m window \u001b[38;5;241m=\u001b[39m \u001b[38;5;28mint\u001b[39m(params[\u001b[38;5;124m'\u001b[39m\u001b[38;5;124mRUN_CONFIG\u001b[39m\u001b[38;5;124m'\u001b[39m][\u001b[38;5;124m'\u001b[39m\u001b[38;5;124mwindow\u001b[39m\u001b[38;5;124m'\u001b[39m])\n\u001b[1;32m----> 2\u001b[0m model\u001b[38;5;241m.\u001b[39mfit(train_dataset\u001b[38;5;241m.\u001b[39minput_fn(window\u001b[38;5;241m=\u001b[39mwindow, validation\u001b[38;5;241m=\u001b[39m\u001b[38;5;28;01mFalse\u001b[39;00m),\n\u001b[0;32m      3\u001b[0m           validation_data\u001b[38;5;241m=\u001b[39m val_dataset\u001b[38;5;241m.\u001b[39minput_fn(window\u001b[38;5;241m=\u001b[39mwindow, validation\u001b[38;5;241m=\u001b[39m\u001b[38;5;28;01mTrue\u001b[39;00m),\n\u001b[0;32m      4\u001b[0m         \u001b[38;5;66;03m#   validation_steps = 249,\u001b[39;00m\n\u001b[0;32m      5\u001b[0m           steps_per_epoch \u001b[38;5;241m=\u001b[39m \u001b[38;5;241m1600\u001b[39m,\n\u001b[0;32m      6\u001b[0m           batch_size\u001b[38;5;241m=\u001b[39m\u001b[38;5;241m1\u001b[39m,\n\u001b[0;32m      7\u001b[0m           epochs\u001b[38;5;241m=\u001b[39m\u001b[38;5;241m2000\u001b[39m,\n\u001b[0;32m      8\u001b[0m           callbacks\u001b[38;5;241m=\u001b[39mcallbacks,\n\u001b[0;32m      9\u001b[0m           use_multiprocessing\u001b[38;5;241m=\u001b[39m\u001b[38;5;28;01mTrue\u001b[39;00m,\n\u001b[0;32m     10\u001b[0m           initial_epoch\u001b[38;5;241m=\u001b[39mstartingEpoch)\n",
      "File \u001b[1;32mc:\\Users\\acoma\\anaconda3\\Lib\\site-packages\\keras\\src\\utils\\traceback_utils.py:65\u001b[0m, in \u001b[0;36mfilter_traceback.<locals>.error_handler\u001b[1;34m(*args, **kwargs)\u001b[0m\n\u001b[0;32m     63\u001b[0m filtered_tb \u001b[38;5;241m=\u001b[39m \u001b[38;5;28;01mNone\u001b[39;00m\n\u001b[0;32m     64\u001b[0m \u001b[38;5;28;01mtry\u001b[39;00m:\n\u001b[1;32m---> 65\u001b[0m     \u001b[38;5;28;01mreturn\u001b[39;00m fn(\u001b[38;5;241m*\u001b[39margs, \u001b[38;5;241m*\u001b[39m\u001b[38;5;241m*\u001b[39mkwargs)\n\u001b[0;32m     66\u001b[0m \u001b[38;5;28;01mexcept\u001b[39;00m \u001b[38;5;167;01mException\u001b[39;00m \u001b[38;5;28;01mas\u001b[39;00m e:\n\u001b[0;32m     67\u001b[0m     filtered_tb \u001b[38;5;241m=\u001b[39m _process_traceback_frames(e\u001b[38;5;241m.\u001b[39m__traceback__)\n",
      "File \u001b[1;32mc:\\Users\\acoma\\anaconda3\\Lib\\site-packages\\keras\\src\\engine\\training.py:1791\u001b[0m, in \u001b[0;36mModel.fit\u001b[1;34m(self, x, y, batch_size, epochs, verbose, callbacks, validation_split, validation_data, shuffle, class_weight, sample_weight, initial_epoch, steps_per_epoch, validation_steps, validation_batch_size, validation_freq, max_queue_size, workers, use_multiprocessing)\u001b[0m\n\u001b[0;32m   1775\u001b[0m \u001b[38;5;28;01mif\u001b[39;00m \u001b[38;5;28mgetattr\u001b[39m(\u001b[38;5;28mself\u001b[39m, \u001b[38;5;124m\"\u001b[39m\u001b[38;5;124m_eval_data_handler\u001b[39m\u001b[38;5;124m\"\u001b[39m, \u001b[38;5;28;01mNone\u001b[39;00m) \u001b[38;5;129;01mis\u001b[39;00m \u001b[38;5;28;01mNone\u001b[39;00m:\n\u001b[0;32m   1776\u001b[0m     \u001b[38;5;28mself\u001b[39m\u001b[38;5;241m.\u001b[39m_eval_data_handler \u001b[38;5;241m=\u001b[39m data_adapter\u001b[38;5;241m.\u001b[39mget_data_handler(\n\u001b[0;32m   1777\u001b[0m         x\u001b[38;5;241m=\u001b[39mval_x,\n\u001b[0;32m   1778\u001b[0m         y\u001b[38;5;241m=\u001b[39mval_y,\n\u001b[1;32m   (...)\u001b[0m\n\u001b[0;32m   1789\u001b[0m         pss_evaluation_shards\u001b[38;5;241m=\u001b[39m\u001b[38;5;28mself\u001b[39m\u001b[38;5;241m.\u001b[39m_pss_evaluation_shards,\n\u001b[0;32m   1790\u001b[0m     )\n\u001b[1;32m-> 1791\u001b[0m val_logs \u001b[38;5;241m=\u001b[39m \u001b[38;5;28mself\u001b[39m\u001b[38;5;241m.\u001b[39mevaluate(\n\u001b[0;32m   1792\u001b[0m     x\u001b[38;5;241m=\u001b[39mval_x,\n\u001b[0;32m   1793\u001b[0m     y\u001b[38;5;241m=\u001b[39mval_y,\n\u001b[0;32m   1794\u001b[0m     sample_weight\u001b[38;5;241m=\u001b[39mval_sample_weight,\n\u001b[0;32m   1795\u001b[0m     batch_size\u001b[38;5;241m=\u001b[39mvalidation_batch_size \u001b[38;5;129;01mor\u001b[39;00m batch_size,\n\u001b[0;32m   1796\u001b[0m     steps\u001b[38;5;241m=\u001b[39mvalidation_steps,\n\u001b[0;32m   1797\u001b[0m     callbacks\u001b[38;5;241m=\u001b[39mcallbacks,\n\u001b[0;32m   1798\u001b[0m     max_queue_size\u001b[38;5;241m=\u001b[39mmax_queue_size,\n\u001b[0;32m   1799\u001b[0m     workers\u001b[38;5;241m=\u001b[39mworkers,\n\u001b[0;32m   1800\u001b[0m     use_multiprocessing\u001b[38;5;241m=\u001b[39muse_multiprocessing,\n\u001b[0;32m   1801\u001b[0m     return_dict\u001b[38;5;241m=\u001b[39m\u001b[38;5;28;01mTrue\u001b[39;00m,\n\u001b[0;32m   1802\u001b[0m     _use_cached_eval_dataset\u001b[38;5;241m=\u001b[39m\u001b[38;5;28;01mTrue\u001b[39;00m,\n\u001b[0;32m   1803\u001b[0m )\n\u001b[0;32m   1804\u001b[0m val_logs \u001b[38;5;241m=\u001b[39m {\n\u001b[0;32m   1805\u001b[0m     \u001b[38;5;124m\"\u001b[39m\u001b[38;5;124mval_\u001b[39m\u001b[38;5;124m\"\u001b[39m \u001b[38;5;241m+\u001b[39m name: val \u001b[38;5;28;01mfor\u001b[39;00m name, val \u001b[38;5;129;01min\u001b[39;00m val_logs\u001b[38;5;241m.\u001b[39mitems()\n\u001b[0;32m   1806\u001b[0m }\n\u001b[0;32m   1807\u001b[0m epoch_logs\u001b[38;5;241m.\u001b[39mupdate(val_logs)\n",
      "File \u001b[1;32mc:\\Users\\acoma\\anaconda3\\Lib\\site-packages\\keras\\src\\utils\\traceback_utils.py:65\u001b[0m, in \u001b[0;36mfilter_traceback.<locals>.error_handler\u001b[1;34m(*args, **kwargs)\u001b[0m\n\u001b[0;32m     63\u001b[0m filtered_tb \u001b[38;5;241m=\u001b[39m \u001b[38;5;28;01mNone\u001b[39;00m\n\u001b[0;32m     64\u001b[0m \u001b[38;5;28;01mtry\u001b[39;00m:\n\u001b[1;32m---> 65\u001b[0m     \u001b[38;5;28;01mreturn\u001b[39;00m fn(\u001b[38;5;241m*\u001b[39margs, \u001b[38;5;241m*\u001b[39m\u001b[38;5;241m*\u001b[39mkwargs)\n\u001b[0;32m     66\u001b[0m \u001b[38;5;28;01mexcept\u001b[39;00m \u001b[38;5;167;01mException\u001b[39;00m \u001b[38;5;28;01mas\u001b[39;00m e:\n\u001b[0;32m     67\u001b[0m     filtered_tb \u001b[38;5;241m=\u001b[39m _process_traceback_frames(e\u001b[38;5;241m.\u001b[39m__traceback__)\n",
      "File \u001b[1;32mc:\\Users\\acoma\\anaconda3\\Lib\\site-packages\\keras\\src\\engine\\training.py:2213\u001b[0m, in \u001b[0;36mModel.evaluate\u001b[1;34m(self, x, y, batch_size, verbose, sample_weight, steps, callbacks, max_queue_size, workers, use_multiprocessing, return_dict, **kwargs)\u001b[0m\n\u001b[0;32m   2211\u001b[0m \u001b[38;5;28;01melse\u001b[39;00m:\n\u001b[0;32m   2212\u001b[0m     logs \u001b[38;5;241m=\u001b[39m \u001b[38;5;28mself\u001b[39m\u001b[38;5;241m.\u001b[39m_validate_and_get_metrics_result(logs)\n\u001b[1;32m-> 2213\u001b[0m callbacks\u001b[38;5;241m.\u001b[39mon_test_end(logs\u001b[38;5;241m=\u001b[39mlogs)\n\u001b[0;32m   2215\u001b[0m \u001b[38;5;28;01mif\u001b[39;00m return_dict:\n\u001b[0;32m   2216\u001b[0m     \u001b[38;5;28;01mreturn\u001b[39;00m logs\n",
      "File \u001b[1;32mc:\\Users\\acoma\\anaconda3\\Lib\\site-packages\\keras\\src\\callbacks.py:563\u001b[0m, in \u001b[0;36mCallbackList.on_test_end\u001b[1;34m(self, logs)\u001b[0m\n\u001b[0;32m    561\u001b[0m logs \u001b[38;5;241m=\u001b[39m \u001b[38;5;28mself\u001b[39m\u001b[38;5;241m.\u001b[39m_process_logs(logs)\n\u001b[0;32m    562\u001b[0m \u001b[38;5;28;01mfor\u001b[39;00m callback \u001b[38;5;129;01min\u001b[39;00m \u001b[38;5;28mself\u001b[39m\u001b[38;5;241m.\u001b[39mcallbacks:\n\u001b[1;32m--> 563\u001b[0m     callback\u001b[38;5;241m.\u001b[39mon_test_end(logs)\n",
      "File \u001b[1;32mc:\\Users\\acoma\\anaconda3\\Lib\\site-packages\\keras\\src\\callbacks.py:2784\u001b[0m, in \u001b[0;36mTensorBoard.on_test_end\u001b[1;34m(self, logs)\u001b[0m\n\u001b[0;32m   2782\u001b[0m     \u001b[38;5;28;01mwith\u001b[39;00m tf\u001b[38;5;241m.\u001b[39msummary\u001b[38;5;241m.\u001b[39mrecord_if(\u001b[38;5;28;01mTrue\u001b[39;00m), \u001b[38;5;28mself\u001b[39m\u001b[38;5;241m.\u001b[39m_val_writer\u001b[38;5;241m.\u001b[39mas_default():\n\u001b[0;32m   2783\u001b[0m         \u001b[38;5;28;01mfor\u001b[39;00m name, value \u001b[38;5;129;01min\u001b[39;00m logs\u001b[38;5;241m.\u001b[39mitems():\n\u001b[1;32m-> 2784\u001b[0m             tf\u001b[38;5;241m.\u001b[39msummary\u001b[38;5;241m.\u001b[39mscalar(\n\u001b[0;32m   2785\u001b[0m                 \u001b[38;5;124m\"\u001b[39m\u001b[38;5;124mevaluation_\u001b[39m\u001b[38;5;124m\"\u001b[39m \u001b[38;5;241m+\u001b[39m name \u001b[38;5;241m+\u001b[39m \u001b[38;5;124m\"\u001b[39m\u001b[38;5;124m_vs_iterations\u001b[39m\u001b[38;5;124m\"\u001b[39m,\n\u001b[0;32m   2786\u001b[0m                 value,\n\u001b[0;32m   2787\u001b[0m                 step\u001b[38;5;241m=\u001b[39m\u001b[38;5;28mself\u001b[39m\u001b[38;5;241m.\u001b[39mmodel\u001b[38;5;241m.\u001b[39moptimizer\u001b[38;5;241m.\u001b[39miterations\u001b[38;5;241m.\u001b[39mread_value(),\n\u001b[0;32m   2788\u001b[0m             )\n\u001b[0;32m   2789\u001b[0m \u001b[38;5;28mself\u001b[39m\u001b[38;5;241m.\u001b[39m_pop_writer()\n",
      "File \u001b[1;32mc:\\Users\\acoma\\anaconda3\\Lib\\site-packages\\tensorboard\\plugins\\scalar\\summary_v2.py:89\u001b[0m, in \u001b[0;36mscalar\u001b[1;34m(name, data, step, description)\u001b[0m\n\u001b[0;32m     87\u001b[0m \u001b[38;5;28;01mwith\u001b[39;00m summary_scope(name, \u001b[38;5;124m\"\u001b[39m\u001b[38;5;124mscalar_summary\u001b[39m\u001b[38;5;124m\"\u001b[39m, values\u001b[38;5;241m=\u001b[39m[data, step]) \u001b[38;5;28;01mas\u001b[39;00m (tag, _):\n\u001b[0;32m     88\u001b[0m     tf\u001b[38;5;241m.\u001b[39mdebugging\u001b[38;5;241m.\u001b[39massert_scalar(data)\n\u001b[1;32m---> 89\u001b[0m     \u001b[38;5;28;01mreturn\u001b[39;00m tf\u001b[38;5;241m.\u001b[39msummary\u001b[38;5;241m.\u001b[39mwrite(\n\u001b[0;32m     90\u001b[0m         tag\u001b[38;5;241m=\u001b[39mtag,\n\u001b[0;32m     91\u001b[0m         tensor\u001b[38;5;241m=\u001b[39mtf\u001b[38;5;241m.\u001b[39mcast(data, tf\u001b[38;5;241m.\u001b[39mfloat32),\n\u001b[0;32m     92\u001b[0m         step\u001b[38;5;241m=\u001b[39mstep,\n\u001b[0;32m     93\u001b[0m         metadata\u001b[38;5;241m=\u001b[39msummary_metadata,\n\u001b[0;32m     94\u001b[0m     )\n",
      "File \u001b[1;32mc:\\Users\\acoma\\anaconda3\\Lib\\site-packages\\tensorflow\\python\\ops\\summary_ops_v2.py:769\u001b[0m, in \u001b[0;36mwrite\u001b[1;34m(tag, tensor, step, metadata, name)\u001b[0m\n\u001b[0;32m    766\u001b[0m     \u001b[38;5;28;01mwith\u001b[39;00m ops\u001b[38;5;241m.\u001b[39mcontrol_dependencies([write_summary_op]):\n\u001b[0;32m    767\u001b[0m       \u001b[38;5;28;01mreturn\u001b[39;00m constant_op\u001b[38;5;241m.\u001b[39mconstant(\u001b[38;5;28;01mTrue\u001b[39;00m)\n\u001b[1;32m--> 769\u001b[0m op \u001b[38;5;241m=\u001b[39m smart_cond\u001b[38;5;241m.\u001b[39msmart_cond(\n\u001b[0;32m    770\u001b[0m     should_record_summaries(), record, _nothing, name\u001b[38;5;241m=\u001b[39m\u001b[38;5;124m\"\u001b[39m\u001b[38;5;124msummary_cond\u001b[39m\u001b[38;5;124m\"\u001b[39m)\n\u001b[0;32m    771\u001b[0m \u001b[38;5;28;01mif\u001b[39;00m \u001b[38;5;129;01mnot\u001b[39;00m context\u001b[38;5;241m.\u001b[39mexecuting_eagerly():\n\u001b[0;32m    772\u001b[0m   ops\u001b[38;5;241m.\u001b[39madd_to_collection(ops\u001b[38;5;241m.\u001b[39mGraphKeys\u001b[38;5;241m.\u001b[39m_SUMMARY_COLLECTION, op)  \u001b[38;5;66;03m# pylint: disable=protected-access\u001b[39;00m\n",
      "File \u001b[1;32mc:\\Users\\acoma\\anaconda3\\Lib\\site-packages\\tensorflow\\python\\framework\\smart_cond.py:53\u001b[0m, in \u001b[0;36msmart_cond\u001b[1;34m(pred, true_fn, false_fn, name)\u001b[0m\n\u001b[0;32m     51\u001b[0m \u001b[38;5;28;01mif\u001b[39;00m pred_value \u001b[38;5;129;01mis\u001b[39;00m \u001b[38;5;129;01mnot\u001b[39;00m \u001b[38;5;28;01mNone\u001b[39;00m:\n\u001b[0;32m     52\u001b[0m   \u001b[38;5;28;01mif\u001b[39;00m pred_value:\n\u001b[1;32m---> 53\u001b[0m     \u001b[38;5;28;01mreturn\u001b[39;00m true_fn()\n\u001b[0;32m     54\u001b[0m   \u001b[38;5;28;01melse\u001b[39;00m:\n\u001b[0;32m     55\u001b[0m     \u001b[38;5;28;01mreturn\u001b[39;00m false_fn()\n",
      "File \u001b[1;32mc:\\Users\\acoma\\anaconda3\\Lib\\site-packages\\tensorflow\\python\\ops\\summary_ops_v2.py:759\u001b[0m, in \u001b[0;36mwrite.<locals>.record\u001b[1;34m()\u001b[0m\n\u001b[0;32m    756\u001b[0m \u001b[38;5;28;01mwith\u001b[39;00m ops\u001b[38;5;241m.\u001b[39mdevice(\u001b[38;5;124m\"\u001b[39m\u001b[38;5;124mcpu:0\u001b[39m\u001b[38;5;124m\"\u001b[39m):\n\u001b[0;32m    757\u001b[0m   summary_tensor \u001b[38;5;241m=\u001b[39m tensor() \u001b[38;5;28;01mif\u001b[39;00m \u001b[38;5;28mcallable\u001b[39m(tensor) \u001b[38;5;28;01melse\u001b[39;00m array_ops\u001b[38;5;241m.\u001b[39midentity(\n\u001b[0;32m    758\u001b[0m       tensor)\n\u001b[1;32m--> 759\u001b[0m   write_summary_op \u001b[38;5;241m=\u001b[39m gen_summary_ops\u001b[38;5;241m.\u001b[39mwrite_summary(\n\u001b[0;32m    760\u001b[0m       _summary_state\u001b[38;5;241m.\u001b[39mwriter\u001b[38;5;241m.\u001b[39m_resource,  \u001b[38;5;66;03m# pylint: disable=protected-access\u001b[39;00m\n\u001b[0;32m    761\u001b[0m       step,\n\u001b[0;32m    762\u001b[0m       summary_tensor,\n\u001b[0;32m    763\u001b[0m       tag,\n\u001b[0;32m    764\u001b[0m       serialized_metadata,\n\u001b[0;32m    765\u001b[0m       name\u001b[38;5;241m=\u001b[39mscope)\n\u001b[0;32m    766\u001b[0m   \u001b[38;5;28;01mwith\u001b[39;00m ops\u001b[38;5;241m.\u001b[39mcontrol_dependencies([write_summary_op]):\n\u001b[0;32m    767\u001b[0m     \u001b[38;5;28;01mreturn\u001b[39;00m constant_op\u001b[38;5;241m.\u001b[39mconstant(\u001b[38;5;28;01mTrue\u001b[39;00m)\n",
      "File \u001b[1;32mc:\\Users\\acoma\\anaconda3\\Lib\\site-packages\\tensorflow\\python\\ops\\gen_summary_ops.py:702\u001b[0m, in \u001b[0;36mwrite_summary\u001b[1;34m(writer, step, tensor, tag, summary_metadata, name)\u001b[0m\n\u001b[0;32m    700\u001b[0m   \u001b[38;5;28;01mpass\u001b[39;00m\n\u001b[0;32m    701\u001b[0m \u001b[38;5;28;01mtry\u001b[39;00m:\n\u001b[1;32m--> 702\u001b[0m   \u001b[38;5;28;01mreturn\u001b[39;00m write_summary_eager_fallback(\n\u001b[0;32m    703\u001b[0m       writer, step, tensor, tag, summary_metadata, name\u001b[38;5;241m=\u001b[39mname, ctx\u001b[38;5;241m=\u001b[39m_ctx)\n\u001b[0;32m    704\u001b[0m \u001b[38;5;28;01mexcept\u001b[39;00m _core\u001b[38;5;241m.\u001b[39m_SymbolicException:\n\u001b[0;32m    705\u001b[0m   \u001b[38;5;28;01mpass\u001b[39;00m  \u001b[38;5;66;03m# Add nodes to the TensorFlow graph.\u001b[39;00m\n",
      "File \u001b[1;32mc:\\Users\\acoma\\anaconda3\\Lib\\site-packages\\tensorflow\\python\\ops\\gen_summary_ops.py:722\u001b[0m, in \u001b[0;36mwrite_summary_eager_fallback\u001b[1;34m(writer, step, tensor, tag, summary_metadata, name, ctx)\u001b[0m\n\u001b[0;32m    720\u001b[0m _inputs_flat \u001b[38;5;241m=\u001b[39m [writer, step, tensor, tag, summary_metadata]\n\u001b[0;32m    721\u001b[0m _attrs \u001b[38;5;241m=\u001b[39m (\u001b[38;5;124m\"\u001b[39m\u001b[38;5;124mT\u001b[39m\u001b[38;5;124m\"\u001b[39m, _attr_T)\n\u001b[1;32m--> 722\u001b[0m _result \u001b[38;5;241m=\u001b[39m _execute\u001b[38;5;241m.\u001b[39mexecute(\u001b[38;5;124mb\u001b[39m\u001b[38;5;124m\"\u001b[39m\u001b[38;5;124mWriteSummary\u001b[39m\u001b[38;5;124m\"\u001b[39m, \u001b[38;5;241m0\u001b[39m, inputs\u001b[38;5;241m=\u001b[39m_inputs_flat,\n\u001b[0;32m    723\u001b[0m                            attrs\u001b[38;5;241m=\u001b[39m_attrs, ctx\u001b[38;5;241m=\u001b[39mctx, name\u001b[38;5;241m=\u001b[39mname)\n\u001b[0;32m    724\u001b[0m _result \u001b[38;5;241m=\u001b[39m \u001b[38;5;28;01mNone\u001b[39;00m\n\u001b[0;32m    725\u001b[0m \u001b[38;5;28;01mreturn\u001b[39;00m _result\n",
      "File \u001b[1;32mc:\\Users\\acoma\\anaconda3\\Lib\\site-packages\\tensorflow\\python\\eager\\execute.py:53\u001b[0m, in \u001b[0;36mquick_execute\u001b[1;34m(op_name, num_outputs, inputs, attrs, ctx, name)\u001b[0m\n\u001b[0;32m     51\u001b[0m \u001b[38;5;28;01mtry\u001b[39;00m:\n\u001b[0;32m     52\u001b[0m   ctx\u001b[38;5;241m.\u001b[39mensure_initialized()\n\u001b[1;32m---> 53\u001b[0m   tensors \u001b[38;5;241m=\u001b[39m pywrap_tfe\u001b[38;5;241m.\u001b[39mTFE_Py_Execute(ctx\u001b[38;5;241m.\u001b[39m_handle, device_name, op_name,\n\u001b[0;32m     54\u001b[0m                                       inputs, attrs, num_outputs)\n\u001b[0;32m     55\u001b[0m \u001b[38;5;28;01mexcept\u001b[39;00m core\u001b[38;5;241m.\u001b[39m_NotOkStatusException \u001b[38;5;28;01mas\u001b[39;00m e:\n\u001b[0;32m     56\u001b[0m   \u001b[38;5;28;01mif\u001b[39;00m name \u001b[38;5;129;01mis\u001b[39;00m \u001b[38;5;129;01mnot\u001b[39;00m \u001b[38;5;28;01mNone\u001b[39;00m:\n",
      "\u001b[1;31mKeyboardInterrupt\u001b[0m: "
     ]
    }
   ],
   "source": [
    "window = int(params['RUN_CONFIG']['window'])\n",
    "model.fit(train_dataset.input_fn(window=window, validation=False),\n",
    "          validation_data= val_dataset.input_fn(window=window, validation=True),\n",
    "        #   validation_steps = 249,\n",
    "          steps_per_epoch = 1600,\n",
    "          batch_size=1,\n",
    "          epochs=2000,\n",
    "          callbacks=callbacks,\n",
    "          use_multiprocessing=True,\n",
    "          initial_epoch=startingEpoch)\n"
   ]
  }
 ],
 "metadata": {
  "kernelspec": {
   "display_name": "cuda",
   "language": "python",
   "name": "python3"
  },
  "language_info": {
   "codemirror_mode": {
    "name": "ipython",
    "version": 3
   },
   "file_extension": ".py",
   "mimetype": "text/x-python",
   "name": "python",
   "nbconvert_exporter": "python",
   "pygments_lexer": "ipython3",
   "version": "3.11.5"
  },
  "orig_nbformat": 4
 },
 "nbformat": 4,
 "nbformat_minor": 2
}
