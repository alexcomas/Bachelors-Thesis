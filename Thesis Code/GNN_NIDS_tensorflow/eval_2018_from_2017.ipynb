{
 "cells": [
  {
   "cell_type": "code",
   "execution_count": 1,
   "metadata": {},
   "outputs": [
    {
     "data": {
      "text/plain": [
       "['./config.ini']"
      ]
     },
     "execution_count": 1,
     "metadata": {},
     "output_type": "execute_result"
    }
   ],
   "source": [
    "import configparser\n",
    "import time\n",
    "import numpy as np\n",
    "import os\n",
    "import tensorflow as tf\n",
    "import configparser\n",
    "import warnings\n",
    "warnings.filterwarnings('ignore')\n",
    "import pandas as pd\n",
    "import importlib\n",
    "import utils\n",
    "\n",
    "importlib.reload(utils)\n",
    "\n",
    "import generator\n",
    "importlib.reload(generator)\n",
    "\n",
    "params = configparser.ConfigParser()\n",
    "params._interpolation = configparser.ExtendedInterpolation()\n",
    "params.read('./config.ini')"
   ]
  },
  {
   "cell_type": "code",
   "execution_count": 3,
   "metadata": {},
   "outputs": [
    {
     "name": "stdout",
     "output_type": "stream",
     "text": [
      "Restoring from D:\\TFG\\datasets\\IDS2018\\TensorflowModel\\IDS2017\\NOTHING\\ckpt\\weights.18-9.423.tf\n"
     ]
    }
   ],
   "source": [
    "from utils import make_or_restore_model\n",
    "\n",
    "# directory = 'DIRECTORIES_' + params['RUN_CONFIG']['dataset']\n",
    "directory = 'DIRECTORIES_' + 'IDS2017_LABELS_IDS2017'\n",
    "# (model, startingEpoch) = make_or_restore_model(params=params, forceRestore='weights.07-0.425.tf')\n",
    "(model, startingEpoch) = make_or_restore_model(params=params)\n",
    "val_dataset = generator.input_fn(data_path=os.path.abspath(params[directory][\"validation\"]), validation=True)"
   ]
  },
  {
   "cell_type": "code",
   "execution_count": 25,
   "metadata": {},
   "outputs": [
    {
     "name": "stdout",
     "output_type": "stream",
     "text": [
      "Opening file in generator: D:\\TFG\\datasets\\IDS2018\\preprocessed_IDS2017\\EVAL\\SHUFFLED\\dataset.csv\n",
      "948/948 [==============================] - 77s 75ms/step - loss: 2.8881 - categorical_accuracy: 0.6823 - specificity_at_sensitivity: 0.9881 - rec_0: 0.0000e+00 - pre_0: 0.0000e+00 - rec_1: 0.0000e+00 - pre_1: 0.0000e+00 - rec_2: 0.9985 - pre_2: 0.8576 - rec_3: 0.0000e+00 - pre_3: 0.0000e+00 - rec_4: 0.0000e+00 - pre_4: 0.0000e+00 - rec_5: 0.0000e+00 - pre_5: 0.0000e+00 - rec_6: 0.0000e+00 - pre_6: 0.0000e+00 - rec_7: 0.0000e+00 - pre_7: 0.0000e+00 - rec_8: 0.0000e+00 - pre_8: 0.0000e+00 - rec_9: 0.0105 - pre_9: 0.1102 - rec_10: 0.0000e+00 - pre_10: 0.0000e+00 - rec_11: 0.0000e+00 - pre_11: 0.0000e+00 - rec_12: 0.0000e+00 - pre_12: 0.0000e+00 - rec_13: 0.6053 - pre_13: 0.8279 - rec_14: 0.8841 - pre_14: 0.5986 - macro_F1: 0.1570 - weighted_F1: 0.6227\n"
     ]
    }
   ],
   "source": [
    "result = model.evaluate(val_dataset,\n",
    "          batch_size=1,\n",
    "          use_multiprocessing=True)\n"
   ]
  },
  {
   "cell_type": "code",
   "execution_count": 15,
   "metadata": {},
   "outputs": [
    {
     "name": "stdout",
     "output_type": "stream",
     "text": [
      "Opening file in generator: D:\\TFG\\datasets\\IDS2018\\preprocessed_IDS2017\\EVAL\\SHUFFLED\\dataset.csv\n",
      "949/949 [==============================] - 25s 26ms/step\n"
     ]
    }
   ],
   "source": [
    "predict = model.predict(val_dataset)\n",
    "predict_labels = [list(row).index(max(row)) for row in predict]"
   ]
  },
  {
   "cell_type": "code",
   "execution_count": null,
   "metadata": {},
   "outputs": [],
   "source": [
    "from pathlib import Path\n",
    "path_2017 = os.path.abspath('D:\\TFG\\datasets\\IDS2018\\\\preprocessed_IDS2017/')\n",
    "path_2018 = os.path.abspath('D:\\TFG\\datasets\\IDS2018\\\\preprocessed_IDS2018/')\n",
    "dataset = \"/EVAL\"\n",
    "attack = \"DDoS\"\n",
    "path_2017 = Path(f\"{path_2017}{dataset}/SHUFFLED/PREDICTED_LABELS\")\n",
    "path_2018 = Path(f\"{path_2018}{dataset}/SHUFFLED/PREDICTED_LABELS\")\n",
    "df_labels = pd.DataFrame(predict_labels)\n",
    "df_labels.to_csv(f\"{path_2017}/dataset.csv\")"
   ]
  },
  {
   "cell_type": "code",
   "execution_count": 51,
   "metadata": {},
   "outputs": [
    {
     "name": "stdout",
     "output_type": "stream",
     "text": [
      "Opening file in generator: D:\\TFG\\datasets\\IDS2018\\preprocessed_IDS2017\\EVAL\\SHUFFLED\\dataset.csv\n"
     ]
    }
   ],
   "source": [
    "all_labels = None\n",
    "for batch in val_dataset:\n",
    "    (features, labels) = batch\n",
    "    if all_labels is None:\n",
    "        all_labels = labels.numpy()\n",
    "    else:\n",
    "        all_labels = np.append(all_labels, labels.numpy(), axis = 0)"
   ]
  },
  {
   "cell_type": "code",
   "execution_count": 73,
   "metadata": {},
   "outputs": [
    {
     "name": "stdout",
     "output_type": "stream",
     "text": [
      "Real labels shape: (189600, 15)\n",
      "Predicted labels shape: (189600, 15)\n"
     ]
    }
   ],
   "source": [
    "print(\"Real labels shape:\", all_labels.shape)\n",
    "print(\"Predicted labels shape:\", predict.shape)"
   ]
  },
  {
   "cell_type": "code",
   "execution_count": 71,
   "metadata": {},
   "outputs": [],
   "source": [
    "import torch\n",
    "from torch.nn import CrossEntropyLoss\n",
    "\n",
    "torch_loss = CrossEntropyLoss()\n",
    "\n",
    "py_l = torch_loss(torch.tensor(predict), torch.tensor(all_labels))"
   ]
  },
  {
   "cell_type": "code",
   "execution_count": 79,
   "metadata": {},
   "outputs": [],
   "source": [
    "tf_loss = tf.keras.losses.SparseCategoricalCrossentropy(from_logits=True)\n",
    "\n",
    "all_labels_class = [np.argmax(row) for row in all_labels]\n",
    "\n",
    "tf_l = tf_loss(all_labels_class, predict)"
   ]
  },
  {
   "cell_type": "code",
   "execution_count": 80,
   "metadata": {},
   "outputs": [
    {
     "name": "stdout",
     "output_type": "stream",
     "text": [
      "2.1120285987854004\n",
      "tf.Tensor(2.1120274, shape=(), dtype=float32)\n"
     ]
    }
   ],
   "source": [
    "print(py_l.item())\n",
    "print(tf_l)"
   ]
  },
  {
   "cell_type": "code",
   "execution_count": 58,
   "metadata": {},
   "outputs": [],
   "source": [
    "l =list(val_dataset)\n",
    "df = pd.DataFrame(l)\n",
    "real_labels = []\n",
    "for _,graph in df.iterrows():\n",
    "    real_labels += [list(row).index(max(row)) for row in graph[1]]"
   ]
  },
  {
   "cell_type": "code",
   "execution_count": 67,
   "metadata": {},
   "outputs": [
    {
     "data": {
      "image/png": "[encoded data removed]",
      "text/plain": [
       "<Figure size 432x288 with 2 Axes>"
      ]
     },
     "metadata": {
      "needs_background": "light"
     },
     "output_type": "display_data"
    }
   ],
   "source": [
    "from sklearn.metrics import confusion_matrix\n",
    "cf_matrix = confusion_matrix(real_labels, predict_labels)\n",
    "from cf_matrix import make_confusion_matrix\n",
    "make_confusion_matrix(cf_matrix, categories=['BENIGN', 'DDoS'])"
   ]
  },
  {
   "cell_type": "code",
   "execution_count": 11,
   "metadata": {},
   "outputs": [],
   "source": [
    "dictKeys = ['loss', 'categorical_accuracy', 'specificity_at_sensitivity', 'rec_0', 'pre_0', 'rec_1', 'pre_1', 'rec_2', 'pre_2', 'rec_3', 'pre_3', 'rec_4', 'pre_4', 'rec_5', 'pre_5', 'rec_6', 'pre_6', 'rec_7', 'pre_7', 'rec_8', 'pre_8', 'rec_9', 'pre_9', 'rec_10', 'pre_10', 'rec_11', 'pre_11', 'rec_12', 'pre_12', 'rec_13', 'pre_13', 'rec_14', 'pre_14', 'macro_F1', 'weighted_F1']\n",
    "res = dict(zip(dictKeys, result))"
   ]
  },
  {
   "cell_type": "code",
   "execution_count": 12,
   "metadata": {},
   "outputs": [
    {
     "data": {
      "text/plain": [
       "{'loss': 0.6096042394638062,\n",
       " 'categorical_accuracy': 0.9054219126701355,\n",
       " 'specificity_at_sensitivity': 0.9991960525512695,\n",
       " 'rec_0': 0.0,\n",
       " 'pre_0': 0.0,\n",
       " 'rec_1': 0.517754316329956,\n",
       " 'pre_1': 0.9990741014480591,\n",
       " 'rec_2': 0.7091147303581238,\n",
       " 'pre_2': 0.9921241998672485,\n",
       " 'rec_3': 0.8589743375778198,\n",
       " 'pre_3': 0.7153024673461914,\n",
       " 'rec_4': 0.6159601211547852,\n",
       " 'pre_4': 0.8666666746139526,\n",
       " 'rec_5': 0.0,\n",
       " 'pre_5': 0.0,\n",
       " 'rec_6': 0.0,\n",
       " 'pre_6': 0.0,\n",
       " 'rec_7': 0.0,\n",
       " 'pre_7': 0.0,\n",
       " 'rec_8': 0.0,\n",
       " 'pre_8': 0.0,\n",
       " 'rec_9': 0.9694421291351318,\n",
       " 'pre_9': 0.9588813185691833,\n",
       " 'rec_10': 0.9306501746177673,\n",
       " 'pre_10': 0.9993351101875305,\n",
       " 'rec_11': 0.0,\n",
       " 'pre_11': 0.0,\n",
       " 'rec_12': 0.9783057570457458,\n",
       " 'pre_12': 1.0,\n",
       " 'rec_13': 0.8971593379974365,\n",
       " 'pre_13': 0.9987322092056274,\n",
       " 'rec_14': 0.9977023601531982,\n",
       " 'pre_14': 0.8297101259231567,\n",
       " 'macro_F1': 0.5185315608978271,\n",
       " 'weighted_F1': 0.8989789485931396}"
      ]
     },
     "execution_count": 12,
     "metadata": {},
     "output_type": "execute_result"
    }
   ],
   "source": [
    "res"
   ]
  },
  {
   "cell_type": "code",
   "execution_count": 34,
   "metadata": {},
   "outputs": [],
   "source": [
    "if params['RUN_CONFIG']['dataset'].endswith('LABELS_IDS2017'):\n",
    "    attack_names = ['SSH-Patator', 'DoS GoldenEye', 'PortScan', 'DoS Slowhttptest', 'Web Attack  Brute Force', 'Bot', 'Web Attack  Sql Injection', \n",
    "                    'Web Attack  XSS', 'Infiltration', 'DDoS', 'DoS slowloris', 'Heartbleed', 'FTP-Patator', 'DoS Hulk','BENIGN']\n",
    "elif params['RUN_CONFIG']['dataset'].endswith('LABELS_IDS2018'):\n",
    "    attack_names = ['FTP-BruteForce', 'SSH-BruteForce', 'DoS-GoldenEye', 'DoS-Slowloris', 'DoS-SlowHTTPTest', 'DoS-Hulk', 'DDoS attacks-LOIC-HTTP', \n",
    "                    'DDoS-LOIC-UDP', 'DDOS-HOIC', 'Brute Force -Web', 'Brute Force -XSS', 'SQL Injection', 'Infiltration', 'Bot', 'BENIGN']\n",
    "indices = range(len(attack_names))\n",
    "zip_iterator = zip(attack_names,indices)\n",
    "attacks_dict = dict(zip_iterator)"
   ]
  },
  {
   "cell_type": "code",
   "execution_count": 35,
   "metadata": {},
   "outputs": [],
   "source": [
    "metrics = dict()\n",
    "for key, value in res.items():\n",
    "    if key.startswith('pre'):\n",
    "        i = int(key.split('_')[1])\n",
    "        metrics['Pre_' + attack_names[i]] = value\n",
    "    elif key.startswith('rec'):\n",
    "        i = int(key.split('_')[1])\n",
    "        metrics['Rec_' + attack_names[i]] = value\n",
    "    else:\n",
    "        metrics[key] = value"
   ]
  },
  {
   "cell_type": "code",
   "execution_count": 36,
   "metadata": {},
   "outputs": [
    {
     "data": {
      "text/plain": [
       "{'loss': 3.7921900749206543,\n",
       " 'categorical_accuracy': 0.7637231945991516,\n",
       " 'specificity_at_sensitivity': 0.9831699132919312,\n",
       " 'Rec_SSH-Patator': 0.0,\n",
       " 'Pre_SSH-Patator': 0.0,\n",
       " 'Rec_DoS GoldenEye': 0.0,\n",
       " 'Pre_DoS GoldenEye': 0.0,\n",
       " 'Rec_PortScan': 0.0,\n",
       " 'Pre_PortScan': 0.0,\n",
       " 'Rec_DoS Slowhttptest': 0.0,\n",
       " 'Pre_DoS Slowhttptest': 0.0,\n",
       " 'Rec_Web Attack  Brute Force': 0.0,\n",
       " 'Pre_Web Attack  Brute Force': 0.0,\n",
       " 'Rec_Bot': 0.0,\n",
       " 'Pre_Bot': 0.0,\n",
       " 'Rec_Web Attack  Sql Injection': 0.0,\n",
       " 'Pre_Web Attack  Sql Injection': 0.0,\n",
       " 'Rec_Web Attack  XSS': 0.0,\n",
       " 'Pre_Web Attack  XSS': 0.0,\n",
       " 'Rec_Infiltration': 0.0,\n",
       " 'Pre_Infiltration': 0.0,\n",
       " 'Rec_DDoS': 1.0,\n",
       " 'Pre_DDoS': 0.6789243221282959,\n",
       " 'Rec_DoS slowloris': 0.0,\n",
       " 'Pre_DoS slowloris': 0.0,\n",
       " 'Rec_Heartbleed': 0.0,\n",
       " 'Pre_Heartbleed': 0.0,\n",
       " 'Rec_FTP-Patator': 0.0,\n",
       " 'Pre_FTP-Patator': 0.0,\n",
       " 'Rec_DoS Hulk': 0.0,\n",
       " 'Pre_DoS Hulk': 0.0,\n",
       " 'Rec_BENIGN': 0.5278105735778809,\n",
       " 'Pre_BENIGN': 1.0,\n",
       " 'macro_F1': 0.09997988492250443,\n",
       " 'weighted_F1': 0.7498036623001099}"
      ]
     },
     "execution_count": 36,
     "metadata": {},
     "output_type": "execute_result"
    }
   ],
   "source": [
    "metrics"
   ]
  },
  {
   "cell_type": "code",
   "execution_count": null,
   "metadata": {},
   "outputs": [],
   "source": [
    "import pandas as pd\n",
    "output_path = os.path.abspath(params[directory][\"validation_IDS2017\"]+\"\\\\dataset_short.csv\")\n",
    "df = pd.read_csv(output_path, header=None, names=generator.features)\n",
    "df = df[df.columns[0:len(df.columns)-1]]\n",
    "preds = model.predict(val_dataset, batch_size=16)\n",
    "preds_str = [generator.attack_names[np.argmax(row)] for row in preds]\n",
    "[(i, el) for i, el in enumerate(preds_str) if el != 'BENIGN']"
   ]
  }
 ],
 "metadata": {
  "kernelspec": {
   "display_name": "Python 3.9.13 ('base2')",
   "language": "python",
   "name": "python3"
  },
  "language_info": {
   "codemirror_mode": {
    "name": "ipython",
    "version": 3
   },
   "file_extension": ".py",
   "mimetype": "text/x-python",
   "name": "python",
   "nbconvert_exporter": "python",
   "pygments_lexer": "ipython3",
   "version": "3.9.13"
  },
  "orig_nbformat": 4,
  "vscode": {
   "interpreter": {
    "hash": "cf81182c77d4d3e8d5f049fb0ba9192ca696838cde56d84f422ec65a611f449d"
   }
  }
 },
 "nbformat": 4,
 "nbformat_minor": 2
}
