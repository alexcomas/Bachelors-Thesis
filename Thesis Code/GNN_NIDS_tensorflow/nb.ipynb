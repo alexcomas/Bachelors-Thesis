{
 "cells": [
  {
   "cell_type": "code",
   "execution_count": 41,
   "metadata": {},
   "outputs": [],
   "source": [
    "from sklearn.manifold import TSNE\n",
    "from sklearn.decomposition import PCA\n",
    "import csv\n",
    "from fileinput import filename\n",
    "import os\n",
    "import numpy as np\n",
    "import glob\n",
    "import configparser\n",
    "from random import random, shuffle\n",
    "import operator\n",
    "import h5py\n",
    "import pandas as pd\n",
    "import warnings\n",
    "from datetime import datetime\n",
    "from imblearn.under_sampling import RandomUnderSampler\n",
    "from pathlib import Path\n",
    "import matplotlib.pyplot as plt\n",
    "import seaborn as sns\n",
    "from utils import make_or_restore_model\n",
    "import generator as generator\n",
    "# from ProgressBar import ProgressBar\n",
    "\n",
    "warnings.simplefilter(action='ignore', category=pd.errors.PerformanceWarning)\n",
    "\n",
    "path_2017 = os.path.abspath('D:\\TFG\\datasets\\IDS2018\\preprocessed_IDS2017/')\n",
    "path_2018 = os.path.abspath('D:\\TFG\\datasets\\IDS2018\\preprocessed_IDS2018/')\n",
    "dataset = \"/TRAIN\"\n",
    "path_2017 = Path(f\"{path_2017}{dataset}/SEPARATED/DDoS\")\n",
    "path_2018 = Path(f\"{path_2018}{dataset}_2017/SEPARATED/DDoS\")\n",
    "# path_2017.mkdir(parents=True, exist_ok=True)\n",
    "# path_2018.mkdir(parents=True, exist_ok=True)\n",
    "\n",
    "datetimeformat = \"%d/%m/%Y %I:%M:%S %p\""
   ]
  },
  {
   "cell_type": "code",
   "execution_count": 43,
   "metadata": {},
   "outputs": [
    {
     "name": "stdout",
     "output_type": "stream",
     "text": [
      "Restoring from D:\\TFG\\datasets\\IDS2018\\TensorflowModel\\DDoS_2017\\NO_FEATURES_3_Flag\\ckpt\\weights.92-0.665.tf\n"
     ]
    }
   ],
   "source": [
    "import importlib\n",
    "importlib.reload(generator)\n",
    "\n",
    "params = configparser.ConfigParser()\n",
    "params._interpolation = configparser.ExtendedInterpolation()\n",
    "params.read('./config.ini')\n",
    "\n",
    "directory = 'DIRECTORIES_' + params['RUN_CONFIG']['dataset']\n",
    "path_logs = os.path.abspath(params[directory]['logs'])\n",
    "\n",
    "(model, startingEpoch) = make_or_restore_model(params=params)\n",
    "val_dataset = generator.input_fn(data_path=os.path.abspath(params[directory][\"TRAIN\"]), validation=True)"
   ]
  },
  {
   "cell_type": "code",
   "execution_count": 44,
   "metadata": {},
   "outputs": [
    {
     "name": "stdout",
     "output_type": "stream",
     "text": [
      "Opening file in generator: D:\\TFG\\datasets\\IDS2018\\preprocessed_IDS2017\\TRAIN\\SEPARATED\\DDoS\\dataset.csv\n",
      "   1020/Unknown - 42s 31ms/step - loss: 0.7004 - categorical_accuracy: 0.5001 - specificity_at_sensitivity: 0.9643 - rec_0: 0.0000e+00 - pre_0: 0.0000e+00 - rec_1: 0.0000e+00 - pre_1: 0.0000e+00 - rec_2: 0.0000e+00 - pre_2: 0.0000e+00 - rec_3: 0.0000e+00 - pre_3: 0.0000e+00 - rec_4: 0.0000e+00 - pre_4: 0.0000e+00 - rec_5: 0.0000e+00 - pre_5: 0.0000e+00 - rec_6: 0.0000e+00 - pre_6: 0.0000e+00 - rec_7: 0.0000e+00 - pre_7: 0.0000e+00 - rec_8: 0.0000e+00 - pre_8: 0.0000e+00 - rec_9: 0.0000e+00 - pre_9: 0.0000e+00 - rec_10: 0.0000e+00 - pre_10: 0.0000e+00 - rec_11: 0.0000e+00 - pre_11: 0.0000e+00 - rec_12: 0.0000e+00 - pre_12: 0.0000e+00 - rec_13: 0.0000e+00 - pre_13: 0.0000e+00 - rec_14: 1.0000 - pre_14: 0.5001 - macro_F1: 0.0444 - weighted_F1: 0.3334\n",
      "Nº graphs:  1022\n",
      "Total counter:  204400\n",
      "Last counter:  0\n",
      "1022/1022 [==============================] - 42s 31ms/step - loss: 0.7004 - categorical_accuracy: 0.5001 - specificity_at_sensitivity: 0.9643 - rec_0: 0.0000e+00 - pre_0: 0.0000e+00 - rec_1: 0.0000e+00 - pre_1: 0.0000e+00 - rec_2: 0.0000e+00 - pre_2: 0.0000e+00 - rec_3: 0.0000e+00 - pre_3: 0.0000e+00 - rec_4: 0.0000e+00 - pre_4: 0.0000e+00 - rec_5: 0.0000e+00 - pre_5: 0.0000e+00 - rec_6: 0.0000e+00 - pre_6: 0.0000e+00 - rec_7: 0.0000e+00 - pre_7: 0.0000e+00 - rec_8: 0.0000e+00 - pre_8: 0.0000e+00 - rec_9: 0.0000e+00 - pre_9: 0.0000e+00 - rec_10: 0.0000e+00 - pre_10: 0.0000e+00 - rec_11: 0.0000e+00 - pre_11: 0.0000e+00 - rec_12: 0.0000e+00 - pre_12: 0.0000e+00 - rec_13: 0.0000e+00 - pre_13: 0.0000e+00 - rec_14: 1.0000 - pre_14: 0.5001 - macro_F1: 0.0444 - weighted_F1: 0.3334\n"
     ]
    }
   ],
   "source": [
    "result = model.evaluate(val_dataset,\n",
    "          batch_size=1,\n",
    "          use_multiprocessing=True)"
   ]
  },
  {
   "cell_type": "code",
   "execution_count": 28,
   "metadata": {},
   "outputs": [
    {
     "name": "stdout",
     "output_type": "stream",
     "text": [
      "Opening file in generator: D:\\TFG\\datasets\\IDS2018\\preprocessed_IDS2017\\EVAL\\SEPARATED\\DDoS\\dataset.csv\n",
      "    246/Unknown - 6s 22ms/step\n",
      "Nº graphs:  249\n",
      "Total counter:  49800\n",
      "Last counter:  0\n",
      "250/250 [==============================] - 6s 22ms/step\n"
     ]
    }
   ],
   "source": [
    "\n",
    "result = model.predict(val_dataset)"
   ]
  },
  {
   "cell_type": "code",
   "execution_count": 29,
   "metadata": {},
   "outputs": [
    {
     "data": {
      "text/plain": [
       "(49800, 15)"
      ]
     },
     "execution_count": 29,
     "metadata": {},
     "output_type": "execute_result"
    }
   ],
   "source": [
    "result.shape"
   ]
  },
  {
   "cell_type": "code",
   "execution_count": 34,
   "metadata": {},
   "outputs": [],
   "source": [
    "df_2017 = pd.read_csv(f'{path_2017}/dataset.csv', header=None, names=generator.features)"
   ]
  },
  {
   "cell_type": "code",
   "execution_count": 36,
   "metadata": {},
   "outputs": [],
   "source": [
    "df_2017[\"Label_N\"] =  [generator.attacks_dict[l] for l in df_2017[\"Label\"]]"
   ]
  },
  {
   "cell_type": "code",
   "execution_count": 30,
   "metadata": {},
   "outputs": [],
   "source": [
    "predicted_classes = [list(pred).index(max(pred)) for pred in result]"
   ]
  },
  {
   "cell_type": "code",
   "execution_count": 31,
   "metadata": {},
   "outputs": [
    {
     "data": {
      "text/plain": [
       "14    49800\n",
       "dtype: int64"
      ]
     },
     "execution_count": 31,
     "metadata": {},
     "output_type": "execute_result"
    }
   ],
   "source": [
    "pd.Series( predicted_classes).value_counts()"
   ]
  },
  {
   "cell_type": "code",
   "execution_count": 39,
   "metadata": {},
   "outputs": [
    {
     "data": {
      "text/plain": [
       "0.33487396119808044"
      ]
     },
     "execution_count": 39,
     "metadata": {},
     "output_type": "execute_result"
    }
   ],
   "source": [
    "import sklearn.metrics as sk\n",
    "sk.f1_score(df_2017[\"Label_N\"].to_numpy(), predicted_classes, average=\"weighted\")"
   ]
  }
 ],
 "metadata": {
  "kernelspec": {
   "display_name": "Python 3.9.12 ('base')",
   "language": "python",
   "name": "python3"
  },
  "language_info": {
   "codemirror_mode": {
    "name": "ipython",
    "version": 3
   },
   "file_extension": ".py",
   "mimetype": "text/x-python",
   "name": "python",
   "nbconvert_exporter": "python",
   "pygments_lexer": "ipython3",
   "version": "3.9.12"
  },
  "orig_nbformat": 4,
  "vscode": {
   "interpreter": {
    "hash": "ad2bdc8ecc057115af97d19610ffacc2b4e99fae6737bb82f5d7fb13d2f2c186"
   }
  }
 },
 "nbformat": 4,
 "nbformat_minor": 2
}
